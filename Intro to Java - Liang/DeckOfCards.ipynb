{
  "nbformat": 4,
  "nbformat_minor": 0,
  "metadata": {
    "colab": {
      "provenance": [],
      "authorship_tag": "ABX9TyM2cQCRJj341/MVhbiIOf8t",
      "include_colab_link": true
    },
    "kernelspec": {
      "name": "python3",
      "display_name": "Python 3"
    },
    "language_info": {
      "name": "python"
    }
  },
  "cells": [
    {
      "cell_type": "markdown",
      "metadata": {
        "id": "view-in-github",
        "colab_type": "text"
      },
      "source": [
        "<a href=\"https://colab.research.google.com/github/Agile-Data-Engineer/Learnings/blob/main/DeckOfCards.ipynb\" target=\"_parent\"><img src=\"https://colab.research.google.com/assets/colab-badge.svg\" alt=\"Open In Colab\"/></a>"
      ]
    },
    {
      "cell_type": "code",
      "source": [
        "!apt-get update -y > /dev/null\n",
        "!apt-get install openjdk-17-jdk -y > /dev/null"
      ],
      "metadata": {
        "colab": {
          "base_uri": "https://localhost:8080/"
        },
        "id": "c434KwEt1BcZ",
        "outputId": "8cd0e4f1-933e-4ee8-9ee3-e86121c47b0d"
      },
      "execution_count": 3,
      "outputs": [
        {
          "output_type": "stream",
          "name": "stdout",
          "text": [
            "W: Skipping acquire of configured file 'main/source/Sources' as repository 'https://r2u.stat.illinois.edu/ubuntu jammy InRelease' does not seem to provide it (sources.list entry misspelt?)\n"
          ]
        }
      ]
    },
    {
      "cell_type": "code",
      "source": [
        "!java --version"
      ],
      "metadata": {
        "colab": {
          "base_uri": "https://localhost:8080/"
        },
        "id": "Qtigs0-Z25FA",
        "outputId": "3d78dc2f-346c-4642-98c2-8085daf4957e"
      },
      "execution_count": 4,
      "outputs": [
        {
          "output_type": "stream",
          "name": "stdout",
          "text": [
            "openjdk 17.0.15 2025-04-15\n",
            "OpenJDK Runtime Environment (build 17.0.15+6-Ubuntu-0ubuntu122.04)\n",
            "OpenJDK 64-Bit Server VM (build 17.0.15+6-Ubuntu-0ubuntu122.04, mixed mode, sharing)\n"
          ]
        }
      ]
    },
    {
      "cell_type": "code",
      "source": [
        "%%writefile DeckOfCards.java\n",
        "public class DeckOfCards {\n",
        "  public static void main(String[] args) {\n",
        "    int[] deck = new int[52];\n",
        "    String[] suits = {\"Spades\", \"Hearts\", \"Diamonds\", \"Clubs\"};\n",
        "    String[] ranks = {\"Ace\", \"2\", \"3\", \"4\", \"5\", \"6\", \"7\", \"8\", \"9\", \"10\", \"Jack\", \"Queen\", \"King\"};\n",
        "\n",
        "    // Initialize the deck with card values\n",
        "    for (int i = 0; i < deck.length; i++) {\n",
        "      deck[i] = i;\n",
        "    }\n",
        "\n",
        "    // Shuffle the deck\n",
        "    for (int i = 0; i < deck.length; i++) {\n",
        "      int randomIndex = (int) (Math.random() * deck.length);\n",
        "      int temp = deck[i];\n",
        "      deck[i] = deck[randomIndex];\n",
        "      deck[randomIndex] = temp;\n",
        "    }\n",
        "\n",
        "    // Display the shuffled deck\n",
        "    for (int i = 0; i < deck.length; i++) {\n",
        "      int suitIndex = deck[i] / 13;\n",
        "      int rankIndex = deck[i] % 13;\n",
        "      System.out.println(\"Card \" + (i + 1) + \": \" + ranks[rankIndex] + \" of \" + suits[suitIndex]);\n",
        "    }\n",
        "  }\n",
        "}"
      ],
      "metadata": {
        "colab": {
          "base_uri": "https://localhost:8080/"
        },
        "id": "asj_tD0Q7PHT",
        "outputId": "6d397553-1e51-4c0b-e35c-ea9170fa7aea"
      },
      "execution_count": 15,
      "outputs": [
        {
          "output_type": "stream",
          "name": "stdout",
          "text": [
            "Overwriting DeckOfCards.java\n"
          ]
        }
      ]
    },
    {
      "cell_type": "code",
      "source": [
        "!javac DeckOfCards.java\n",
        "!java DeckOfCards"
      ],
      "metadata": {
        "colab": {
          "base_uri": "https://localhost:8080/"
        },
        "id": "TIMuL5HY3h5w",
        "outputId": "1ff5fa31-44a2-4633-ec7f-a6e9e3e9abed"
      },
      "execution_count": 16,
      "outputs": [
        {
          "output_type": "stream",
          "name": "stdout",
          "text": [
            "Card 1: Jack of Hearts\n",
            "Card 2: Queen of Diamonds\n",
            "Card 3: 7 of Diamonds\n",
            "Card 4: King of Diamonds\n",
            "Card 5: 10 of Hearts\n",
            "Card 6: King of Spades\n",
            "Card 7: 7 of Hearts\n",
            "Card 8: 4 of Spades\n",
            "Card 9: Queen of Hearts\n",
            "Card 10: 5 of Diamonds\n",
            "Card 11: 9 of Clubs\n",
            "Card 12: 6 of Hearts\n",
            "Card 13: King of Hearts\n",
            "Card 14: 7 of Spades\n",
            "Card 15: 3 of Diamonds\n",
            "Card 16: 4 of Hearts\n",
            "Card 17: 10 of Clubs\n",
            "Card 18: 3 of Clubs\n",
            "Card 19: 6 of Clubs\n",
            "Card 20: Jack of Clubs\n",
            "Card 21: Jack of Diamonds\n",
            "Card 22: 8 of Hearts\n",
            "Card 23: 3 of Spades\n",
            "Card 24: 6 of Diamonds\n",
            "Card 25: 8 of Clubs\n",
            "Card 26: 2 of Hearts\n",
            "Card 27: 2 of Spades\n",
            "Card 28: 9 of Hearts\n",
            "Card 29: 3 of Hearts\n",
            "Card 30: Ace of Clubs\n",
            "Card 31: 2 of Clubs\n",
            "Card 32: 5 of Clubs\n",
            "Card 33: Queen of Spades\n",
            "Card 34: 10 of Diamonds\n",
            "Card 35: 5 of Hearts\n",
            "Card 36: 2 of Diamonds\n",
            "Card 37: 10 of Spades\n",
            "Card 38: 8 of Diamonds\n",
            "Card 39: 4 of Diamonds\n",
            "Card 40: Ace of Spades\n",
            "Card 41: 8 of Spades\n",
            "Card 42: King of Clubs\n",
            "Card 43: Jack of Spades\n",
            "Card 44: 9 of Spades\n",
            "Card 45: 5 of Spades\n",
            "Card 46: Ace of Diamonds\n",
            "Card 47: Queen of Clubs\n",
            "Card 48: Ace of Hearts\n",
            "Card 49: 6 of Spades\n",
            "Card 50: 4 of Clubs\n",
            "Card 51: 9 of Diamonds\n",
            "Card 52: 7 of Clubs\n"
          ]
        }
      ]
    },
    {
      "cell_type": "code",
      "source": [
        "%%writefile DeckOfCardsTwo.java\n",
        "public class DeckOfCardsTwo {\n",
        "  public static void main(String[] args) {\n",
        "\n",
        "    String[] suits = {\"Spades\", \"Hearts\", \"Diamonds\", \"Clubs\"};\n",
        "    String[] ranks = {\"Ace\", \"2\", \"3\", \"4\", \"5\", \"6\", \"7\", \"8\", \"9\", \"10\", \"Jack\", \"Queen\", \"King\"};\n",
        "\n",
        "    // Initialize the suit and rankIndex\n",
        "    int randomIndex = (int)(Math.random() * 52);\n",
        "    System.out.println(\"Random Number is: \" + randomIndex);\n",
        "\n",
        "    int suitsIndex = randomIndex / 13;\n",
        "    int rankIndex  = randomIndex % 13;\n",
        "    System.out.println(\"Card: \" + ranks[rankIndex] + \" of \" + suits[suitsIndex]);\n",
        "\n",
        "  }\n",
        "}"
      ],
      "metadata": {
        "colab": {
          "base_uri": "https://localhost:8080/"
        },
        "id": "iObijIeHIH6Z",
        "outputId": "857b20ef-e8ae-4995-beb4-73928cb6586f"
      },
      "execution_count": 43,
      "outputs": [
        {
          "output_type": "stream",
          "name": "stdout",
          "text": [
            "Overwriting DeckOfCardsTwo.java\n"
          ]
        }
      ]
    },
    {
      "cell_type": "code",
      "source": [
        "!javac DeckOfCardsTwo.java\n",
        "!java DeckOfCardsTwo"
      ],
      "metadata": {
        "colab": {
          "base_uri": "https://localhost:8080/"
        },
        "id": "A05rzU0IJrvQ",
        "outputId": "232b70ea-9310-430f-bef2-0d0970af12bd"
      },
      "execution_count": 44,
      "outputs": [
        {
          "output_type": "stream",
          "name": "stdout",
          "text": [
            "Random Number is: 10\n",
            "Card: Jack of Spades\n"
          ]
        }
      ]
    },
    {
      "cell_type": "code",
      "source": [
        "%%writefile CompareDecks.java\n",
        "import java.util.Scanner;\n",
        "public class CompareDecks {\n",
        "  public static void main(String[] args) {\n",
        "\n",
        "    // Collect input\n",
        "    Scanner input = new Scanner(System.in);\n",
        "    System.out.print(\"Enter a number: \");\n",
        "    int num = input.nextInt();\n",
        "    System.out.println(\"Number enter is \" + num);\n",
        "  }\n",
        "}"
      ],
      "metadata": {
        "colab": {
          "base_uri": "https://localhost:8080/"
        },
        "id": "5uk0H0xNO9lL",
        "outputId": "6fbc8d81-7213-490e-8f1f-0b44b3e022ea"
      },
      "execution_count": 58,
      "outputs": [
        {
          "output_type": "stream",
          "name": "stdout",
          "text": [
            "Overwriting CompareDecks.java\n"
          ]
        }
      ]
    },
    {
      "cell_type": "code",
      "source": [
        "!javac CompareDecks.java\n",
        "!java CompareDecks"
      ],
      "metadata": {
        "colab": {
          "base_uri": "https://localhost:8080/"
        },
        "id": "TuIuWi_RO-HC",
        "outputId": "f0dcbae4-a2f1-4edd-c5c8-63d9316f63aa"
      },
      "execution_count": 59,
      "outputs": [
        {
          "output_type": "stream",
          "name": "stdout",
          "text": [
            "Enter a number: 47\n",
            "Number enter is 47\n"
          ]
        }
      ]
    },
    {
      "cell_type": "code",
      "source": [],
      "metadata": {
        "id": "-mOH5gKMO-SS"
      },
      "execution_count": null,
      "outputs": []
    }
  ]
}